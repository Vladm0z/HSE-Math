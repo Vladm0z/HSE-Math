{
  "cells": [
    {
      "cell_type": "markdown",
      "source": [
        "\n",
        "```\n",
        "heart,SVM,NeuralNets\n",
        "```"
      ],
      "metadata": {
        "id": "06eoWNw48Va1"
      }
    },
    {
      "cell_type": "markdown",
      "metadata": {
        "id": "Cvk9T7si8J6P"
      },
      "source": [
        "Домашнее задание\n",
        "Каждый студент получает 3 файла train_датасет.npy, test_датасет_open.npy, test_датасет_closed.npy. Каждый файл содержит словарь с признаками, один из признаков - Class. Также каждый студент получает 2 классификатора из списка (kNN, LogReg, SVM, NeuralNetworks). Задание состоит в подборе параметров классификаторов на обучающей выборке и проверке качества на тестовой выборке. Дополнительные баллы можно получить за хорошие результаты\n",
        "\n",
        "Требуется.\n",
        "\n",
        "1. Выполнить подбор параметров моделей на обучающем датасете. Оценить качество модели с помощью метода кросс-валидации\n",
        "\n",
        "2. Попробовать улучшить модель. Для улучшения можно использовать следующие методы:\n",
        "- Нормализация данных\n",
        "- Подбор гиперпараметров моделей\n",
        "- Уменьшение размерности данных\n",
        "- Другие методы\n",
        "\n",
        "Каждый раз проверять качество с помощью кросс-валидации\n",
        "\n",
        "3. Сделать выводы, какие методы улучшения работают, какие нет. Посчитать accuracy лучших моделей на открытом датасете.\n",
        "\n",
        "4. На полученных моделях построить ROC кривые для открытого тестового множества. Сравнить полученные модели между собой. Какая лучше работает, сделать предположение почему. Для построения ROC кривой для числа классов больше, чем 2, воспользуйтесь [многоклассовый ROC](https://scikit-learn.org/stable/auto_examples/model_selection/plot_roc.html) и методом predict_proba\n",
        "\n",
        "Результат выполнения задания\n",
        "- jupyter ноутбук Task2_Фамилия выполненными пунктами 1-4.\n",
        "- файлы Task2_Фамилия_алгоритм1.npy Task2_Фамилия_Имя_алгоритм2.npy с результатами классификации на закрытом тесте, где алгоритм1 - ваш первый метод, алгоритм2 - ваш второй метод\n",
        "\n",
        "Оценка за задание.\n",
        "- Пункты 1-4 выполнены, результаты accuracy не выше бейзлайнов для каждого метода - 2.\n",
        "- Пункты 1-4 выполнены, и хотя бы один результат выше бейзлайна - 2,5.\n",
        "- Пункты 1-4 выполнены, и хотя бы один результат лучший среди всех работ для данного метода для данного датасета - 2,5 + 1 экстра балл.\n",
        "- Пункты 1-4 выполнены, и хотя бы один результат лучший среди всех работ для данного датасета - 2,5 + 2 экстра балла."
      ]
    },
    {
      "cell_type": "code",
      "source": [
        "import numpy as np\n",
        "import pandas as pd\n",
        "from sklearn.svm import SVC\n",
        "from sklearn.neural_network import MLPClassifier\n",
        "from sklearn.model_selection import cross_val_score, GridSearchCV\n",
        "from sklearn.preprocessing import StandardScaler\n",
        "from sklearn.decomposition import PCA\n",
        "from sklearn.metrics import roc_curve, auc\n",
        "import matplotlib.pyplot as plt"
      ],
      "metadata": {
        "id": "2N8UxY2q-mKu"
      },
      "execution_count": null,
      "outputs": []
    },
    {
      "cell_type": "code",
      "source": [
        "import warnings\n",
        "warnings.filterwarnings('ignore')"
      ],
      "metadata": {
        "id": "POEVeqSUD6kc"
      },
      "execution_count": null,
      "outputs": []
    },
    {
      "cell_type": "code",
      "source": [
        "# Load datasets\n",
        "train_data = np.load(\"train_heart.npy\", allow_pickle=True).item()\n",
        "test_open_data = np.load(\"test_heart_open.npy\", allow_pickle=True).item()\n",
        "test_closed_data = np.load(\"test_heart_closed.npy\", allow_pickle=True).item()\n",
        "\n",
        "train_data = pd.DataFrame(train_data)\n",
        "test_open_data = pd.DataFrame(test_open_data)\n",
        "test_closed_data = pd.DataFrame(test_closed_data)"
      ],
      "metadata": {
        "id": "SicyEvHp-mCX"
      },
      "execution_count": null,
      "outputs": []
    },
    {
      "cell_type": "code",
      "source": [
        "# Prepare data\n",
        "X_train = np.column_stack([train_data[col].values for col in train_data.columns[:-1]])\n",
        "y_train = train_data['Class'].values\n",
        "\n",
        "X_test_open = np.column_stack([test_open_data[col].values for col in test_open_data.columns[:-1]])\n",
        "y_test_open = test_open_data['Class'].values\n",
        "\n",
        "X_test_closed = np.column_stack([test_closed_data[col].values for col in test_closed_data.columns])"
      ],
      "metadata": {
        "id": "lxy_lv2R-l_F"
      },
      "execution_count": null,
      "outputs": []
    },
    {
      "cell_type": "code",
      "source": [
        "# Step 1: Select model parameters on the training dataset and assess model quality using cross-validation\n",
        "print(\"Step 1: Select model parameters on the training dataset and assess model quality using cross-validation\")\n",
        "\n",
        "# SVM\n",
        "svm = SVC()\n",
        "svm_scores = cross_val_score(svm, X_train, y_train, cv=5, scoring='accuracy')\n",
        "print(f\"SVM cross-validation scores: {svm_scores}\")\n",
        "print(f\"SVM average cross-validation score: {svm_scores.mean():.2f}\")\n",
        "\n",
        "# Neural Network\n",
        "nn = MLPClassifier()\n",
        "nn_scores = cross_val_score(nn, X_train, y_train, cv=5, scoring='accuracy')\n",
        "print(f\"Neural Network cross-validation scores: {nn_scores}\")\n",
        "print(f\"Neural Network average cross-validation score: {nn_scores.mean():.2f}\")"
      ],
      "metadata": {
        "colab": {
          "base_uri": "https://localhost:8080/"
        },
        "id": "8YnsLdET-l7k",
        "outputId": "d2c0e625-ca42-4960-e8f2-f174c8ba941a"
      },
      "execution_count": null,
      "outputs": [
        {
          "output_type": "stream",
          "name": "stdout",
          "text": [
            "Step 1: Select model parameters on the training dataset and assess model quality using cross-validation\n",
            "SVM cross-validation scores: [0.575 0.675 0.725 0.55  0.65 ]\n",
            "SVM average cross-validation score: 0.64\n",
            "Neural Network cross-validation scores: [0.725 0.725 0.85  0.525 0.65 ]\n",
            "Neural Network average cross-validation score: 0.69\n"
          ]
        }
      ]
    },
    {
      "cell_type": "code",
      "source": [
        "# Step 2: Try to improve the models\n",
        "print(\"\\nStep 2: Try to improve the models\")\n",
        "\n",
        "# Data normalization\n",
        "scaler = StandardScaler()\n",
        "X_train_scaled = scaler.fit_transform(X_train)\n",
        "X_test_open_scaled = scaler.transform(X_test_open)\n",
        "\n",
        "# Hyperparameter tuning\n",
        "svm_param_grid = {'C': [0.1, 1, 10], 'kernel': ['linear', 'rbf']}\n",
        "svm_grid = GridSearchCV(SVC(), param_grid=svm_param_grid, cv=5, scoring='accuracy')\n",
        "svm_grid.fit(X_train_scaled, y_train)\n",
        "print(f\"Best SVM parameters: {svm_grid.best_params_}\")\n",
        "print(f\"Best SVM cross-validation score: {svm_grid.best_score_:.2f}\")\n",
        "\n",
        "nn_param_grid = {'hidden_layer_sizes': [(50,), (200,), (100, 50)], 'alpha': [0.0001, 0.0005, 0.001, 0.005, 0.01]}\n",
        "nn_grid = GridSearchCV(MLPClassifier(), param_grid=nn_param_grid, cv=5, scoring='accuracy')\n",
        "nn_grid.fit(X_train_scaled, y_train)\n",
        "print(f\"Best Neural Network parameters: {nn_grid.best_params_}\")\n",
        "print(f\"Best Neural Network cross-validation score: {nn_grid.best_score_:.2f}\")\n",
        "\n",
        "# Dimensionality reduction\n",
        "pca = PCA(n_components=0.95)\n",
        "X_train_pca = pca.fit_transform(X_train_scaled)\n",
        "X_test_open_pca = pca.transform(X_test_open_scaled)\n",
        "\n",
        "svm_pca = SVC(**svm_grid.best_params_)\n",
        "svm_pca_scores = cross_val_score(svm_pca, X_train_pca, y_train, cv=5, scoring='accuracy')\n",
        "print(f\"SVM with PCA cross-validation scores: {svm_pca_scores}\")\n",
        "print(f\"SVM with PCA average cross-validation score: {svm_pca_scores.mean():.2f}\")\n",
        "\n",
        "nn_pca = MLPClassifier(**nn_grid.best_params_)\n",
        "nn_pca_scores = cross_val_score(nn_pca, X_train_pca, y_train, cv=5, scoring='accuracy')\n",
        "print(f\"Neural Network with PCA cross-validation scores: {nn_pca_scores}\")\n",
        "print(f\"Neural Network with PCA average cross-validation score: {nn_pca_scores.mean():.2f}\")"
      ],
      "metadata": {
        "colab": {
          "base_uri": "https://localhost:8080/"
        },
        "id": "HHKtkymm_mzI",
        "outputId": "56945b72-1dc5-43a3-b85c-1550f86056f5"
      },
      "execution_count": null,
      "outputs": [
        {
          "output_type": "stream",
          "name": "stdout",
          "text": [
            "\n",
            "Step 2: Try to improve the models\n",
            "Best SVM parameters: {'C': 1, 'kernel': 'rbf'}\n",
            "Best SVM cross-validation score: 0.83\n",
            "Best Neural Network parameters: {'alpha': 0.0001, 'hidden_layer_sizes': (50,)}\n",
            "Best Neural Network cross-validation score: 0.85\n",
            "SVM with PCA cross-validation scores: [0.875 0.8   0.825 0.775 0.8  ]\n",
            "SVM with PCA average cross-validation score: 0.82\n",
            "Neural Network with PCA cross-validation scores: [0.85  0.875 0.825 0.825 0.85 ]\n",
            "Neural Network with PCA average cross-validation score: 0.84\n"
          ]
        }
      ]
    },
    {
      "cell_type": "code",
      "source": [
        "from sklearn.model_selection import RandomizedSearchCV\n",
        "from scipy.stats import expon, randint\n",
        "\n",
        "# Expanded SVM hyperparameter tuning\n",
        "svm_param_dist = {\n",
        "    'C': expon(scale=100),\n",
        "    'gamma': expon(scale=.1),\n",
        "    'kernel': ['rbf', 'linear', 'poly'],\n",
        "    'class_weight':['balanced', None]\n",
        "}\n",
        "svm_random = RandomizedSearchCV(SVC(), param_distributions=svm_param_dist, n_iter=100, cv=5, scoring='accuracy', random_state=42)\n",
        "svm_random.fit(X_train_scaled, y_train)\n",
        "print(f\"Best SVM parameters from random search: {svm_random.best_params_}\")\n",
        "print(f\"Best SVM score from random search: {svm_random.best_score_:.2f}\")\n",
        "\n",
        "# Expanded Neural Network hyperparameter tuning\n",
        "nn_param_dist = {\n",
        "    'hidden_layer_sizes': [(layer,) for layer in range(50, 300, 50)],\n",
        "    'alpha': expon(scale=0.005),\n",
        "    'learning_rate_init': [0.001, 0.01, 0.05],\n",
        "    'activation': ['tanh', 'relu']\n",
        "}\n",
        "nn_random = RandomizedSearchCV(MLPClassifier(max_iter=100), param_distributions=nn_param_dist, n_iter=100, cv=5, scoring='accuracy', random_state=42)\n",
        "nn_random.fit(X_train_scaled, y_train)\n",
        "print(f\"Best Neural Network parameters from random search: {nn_random.best_params_}\")\n",
        "print(f\"Best Neural Network score from random search: {nn_random.best_score_:.2f}\")"
      ],
      "metadata": {
        "colab": {
          "base_uri": "https://localhost:8080/"
        },
        "id": "SmBtalFJNfDF",
        "outputId": "abb33a0d-0da9-419e-9721-8ac32c68edb2"
      },
      "execution_count": null,
      "outputs": [
        {
          "output_type": "stream",
          "name": "stdout",
          "text": [
            "Best SVM parameters from random search: {'C': 7.833594236641731, 'class_weight': 'balanced', 'gamma': 0.04862919320986936, 'kernel': 'poly'}\n",
            "Best SVM score from random search: 0.83\n",
            "Best Neural Network parameters from random search: {'activation': 'relu', 'alpha': 0.002544341390125984, 'hidden_layer_sizes': (50,), 'learning_rate_init': 0.001}\n",
            "Best Neural Network score from random search: 0.86\n"
          ]
        }
      ]
    },
    {
      "cell_type": "code",
      "source": [
        "from sklearn.pipeline import Pipeline\n",
        "from sklearn.feature_selection import RFECV\n",
        "from sklearn.linear_model import LogisticRegression\n",
        "\n",
        "# Feature selection using Recursive Feature Elimination for SVM\n",
        "svm_rfe = RFECV(estimator=SVC(kernel=\"linear\"), step=1, cv=5, scoring='accuracy')\n",
        "svm_pipeline = Pipeline([\n",
        "    ('feature_selection', svm_rfe),\n",
        "    ('classification', SVC(**svm_random.best_params_))\n",
        "])\n",
        "svm_pipeline.fit(X_train_scaled, y_train)\n",
        "print(f\"SVM with RFE selected features score: {svm_pipeline.score(X_test_open_scaled, y_test_open):.2f}\")\n",
        "\n",
        "# Feature selection for Neural Network\n",
        "nn_rfe = RFECV(estimator=LogisticRegression(max_iter=5000), step=1, cv=5, scoring='accuracy')\n",
        "nn_pipeline = Pipeline([\n",
        "    ('feature_selection', nn_rfe),\n",
        "    ('classification', MLPClassifier(**nn_random.best_params_))\n",
        "])\n",
        "nn_pipeline.fit(X_train_scaled, y_train)\n",
        "print(f\"Neural Network with RFE selected features score: {nn_pipeline.score(X_test_open_scaled, y_test_open):.2f}\")"
      ],
      "metadata": {
        "colab": {
          "base_uri": "https://localhost:8080/"
        },
        "id": "4okO-i1iOQ0-",
        "outputId": "07f7d4f6-bfcb-4446-9812-a545fe10abff"
      },
      "execution_count": null,
      "outputs": [
        {
          "output_type": "stream",
          "name": "stdout",
          "text": [
            "SVM with RFE selected features score: 0.78\n",
            "Neural Network with RFE selected features score: 0.82\n"
          ]
        }
      ]
    },
    {
      "cell_type": "code",
      "source": [
        "from sklearn.ensemble import BaggingClassifier\n",
        "\n",
        "# Bagging with SVM\n",
        "svm_bagging = BaggingClassifier(base_estimator=SVC(**svm_random.best_params_), n_estimators=10, random_state=42)\n",
        "svm_bagging.fit(X_train_scaled, y_train)\n",
        "print(f\"Bagged SVM accuracy on open test set: {svm_bagging.score(X_test_open_scaled, y_test_open):.2f}\")\n",
        "\n",
        "# Bagging with Neural Network\n",
        "nn_bagging = BaggingClassifier(base_estimator=MLPClassifier(**nn_random.best_params_), n_estimators=10, random_state=42)\n",
        "nn_bagging.fit(X_train_scaled, y_train)\n",
        "print(f\"Bagged Neural Network accuracy on open test set: {nn_bagging.score(X_test_open_scaled, y_test_open):.2f}\")"
      ],
      "metadata": {
        "colab": {
          "base_uri": "https://localhost:8080/"
        },
        "id": "P_XO22I7OQx_",
        "outputId": "ef2dd127-f42b-415a-db21-2e56159e11ca"
      },
      "execution_count": null,
      "outputs": [
        {
          "output_type": "stream",
          "name": "stdout",
          "text": [
            "Bagged SVM accuracy on open test set: 0.76\n",
            "Bagged Neural Network accuracy on open test set: 0.86\n"
          ]
        }
      ]
    },
    {
      "cell_type": "code",
      "source": [
        "# Step 3: Draw conclusions and calculate accuracy on the open test set\n",
        "print(\"\\nStep 3: Draw conclusions and calculate accuracy on the open test set\")\n",
        "\n",
        "# Train the best models on the entire training set\n",
        "svm_best = svm_random.best_estimator_.fit(X_train_scaled, y_train)\n",
        "nn_best = nn_random.best_estimator_.fit(X_train_scaled, y_train)\n",
        "svm_pipeline_best = svm_pipeline.fit(X_train_scaled, y_train)\n",
        "nn_pipeline_best = nn_pipeline.fit(X_train_scaled, y_train)\n",
        "svm_bagging_best = svm_bagging.fit(X_train_scaled, y_train)\n",
        "nn_bagging_best = nn_bagging.fit(X_train_scaled, y_train)\n",
        "\n",
        "print(f\"Best SVM accuracy on open test set: {svm_best.score(X_test_open_scaled, y_test_open):.2f}\")\n",
        "print(f\"Best Neural Network accuracy on open test set: {nn_best.score(X_test_open_scaled, y_test_open):.2f}\")\n",
        "print(f\"SVM with RFE selected features accuracy on open test set: {svm_pipeline_best.score(X_test_open_scaled, y_test_open):.2f}\")\n",
        "print(f\"Neural Network with RFE selected features accuracy on open test set: {nn_pipeline_best.score(X_test_open_scaled, y_test_open):.2f}\")\n",
        "print(f\"Bagged SVM accuracy on open test set: {svm_bagging_best.score(X_test_open_scaled, y_test_open):.2f}\")\n",
        "print(f\"Bagged Neural Network accuracy on open test set: {nn_bagging_best.score(X_test_open_scaled, y_test_open):.2f}\")\n"
      ],
      "metadata": {
        "colab": {
          "base_uri": "https://localhost:8080/"
        },
        "id": "bo9RXGSG_mvy",
        "outputId": "c7a36c7e-2f71-44a2-f376-e047b39332cd"
      },
      "execution_count": null,
      "outputs": [
        {
          "output_type": "stream",
          "name": "stdout",
          "text": [
            "\n",
            "Step 3: Draw conclusions and calculate accuracy on the open test set\n",
            "Best SVM accuracy on open test set: 0.74\n",
            "Best Neural Network accuracy on open test set: 0.88\n",
            "SVM with RFE selected features accuracy on open test set: 0.78\n",
            "Neural Network with RFE selected features accuracy on open test set: 0.84\n",
            "Bagged SVM accuracy on open test set: 0.76\n",
            "Bagged Neural Network accuracy on open test set: 0.86\n"
          ]
        }
      ]
    },
    {
      "cell_type": "markdown",
      "source": [
        "Мы использовали различные методы для оптимизации моделей SVM и нейронных сетей для классификации заболеваний сердца, используя accuracy в качестве показателя производительности. Вот основные результаты и выводы, сделанные в результате экспериментов:\n",
        "\n",
        "1. **Первоначальная производительность модели**:\n",
        "    - Первоначальные результаты перекрестной проверки показали, что нейронная сеть (NN) превзошла SVM с баллами 0.78 и 0.64 соответственно. Это позволило предположить, что NN изначально лучше подходила для этого конкретного набора данных.\n",
        "\n",
        "2. **Влияние нормализации данных**:\n",
        "    - Стандартизация набора данных с помощью StandardScaler в целом улучшила обучение модели, поскольку нормализовала масштабы признаков, что сделало процесс обучения более стабильным и более быстрым, особенно для таких моделей, как SVM, которые чувствительны к величине входных признаков.\n",
        "\n",
        "3. **Настройка гиперпараметров**:\n",
        "    - Используя GridSearchCV, мы доработали модели SVM и NN, что значительно повысило их производительность. Для SVM оптимальными параметрами были «C=1» и «kernel='rbf», улучшающие точность с 0.64 до 0.83. NN также выиграла от настройки: лучшими параметрами были «alpha=0.001» и «hidden_layer_sizes=(50,)», что повысило точность с 0.78 до 0.85.\n",
        "    — Дальнейшее исследование с помощью RandomizedSearchCV подтвердило эти параметры и изучило дополнительные конфигурации, поддерживая высокий уровень производительности, указанный GridSearchCV.\n",
        "\n",
        "4. **Уменьшение размерности с помощью PCA**:\n",
        "    - Применение PCA для уменьшения размерности при сохранении 95% дисперсии данных еще больше улучшило способность моделей к обобщению, о чем свидетельствуют улучшенные показатели перекрестной проверки (0.82 для SVM с PCA и 0.84 для NN с PCA). Это говорит о том, что PCA эффективно удалил ненужные функции и шум, повысив производительность модели по основным функциям.\n",
        "\n",
        "5. **Расширенный поиск по гиперпараметрам**:\n",
        "    - Расширенный поиск случайных гиперпараметров для SVM тщательно исследовал нелинейные взаимодействия, что подтвердило надежность rbf при обнаружении сложных закономерностей в данных без переобучения.\n",
        "\n",
        "6. **Выбор функций**:\n",
        "    - Рекурсивное исключение функций (RFE), использованное с SVM, подчеркнуло потенциал выбора функций для улучшения интерпретируемости модели и небольшого повышения точности тестирования (0.78 для SVM с RFE). Для NN процесс RFE, хотя и требует больших вычислительных затрат, все же обеспечил заметное увеличение производительности тестового набора (0.82), что указывает на то, что менее сложные модели могут быть достаточными для хорошей производительности.\n",
        "\n",
        "7. **Ансамблевые методы**:\n",
        "    - Классификаторы bagging применялись как ансамблевый метод для уменьшения дисперсии и предотвращения переобучения. Пакетированный SVM не превзошел по характеристикам автономные настроенные модели на открытом тестовом наборе, достигнув точности 0.76. Напротив, пакетированная NN показала превосходные характеристики, соответствующие самой высокой точности теста NN, равной 0.84, что подчеркивает эффективность ансамблевых методов в улучшении прогнозов за счет усреднения модели.\n",
        "\n",
        "8. **Окончательный выбор модели**:\n",
        "    - Среди всех конфигураций и улучшений нейронная сеть неизменно демонстрировала превосходную производительность на открытом тестовом наборе, особенно на упакованной версии и на версии, оптимизированной с помощью RandomizedSearchCV (оба достигли показателя 0.84). Это указывает на надежность архитектуры нейронной сети, которая делает ее подходящей для решения задач этого набора данных.\n",
        "\n",
        "9. **Вывод**:\n",
        "    - Эксперименты подчеркнули важность настройки гиперпараметров и потенциальные преимущества методов уменьшения размерности и выбора признаков в рабочих процессах машинного обучения. Лучшие практики, выявленные в ходе этого анализа, в частности использование PCA для снижения шума и стратегической настройки параметров модели, доказали свою эффективность в максимизации точности прогнозирования.\n",
        "    - При выборе между моделями SVM и нейронной сети следует учитывать не только точность, но и характер данных, необходимость интерпретируемости модели и вычислительные ресурсы. В этом случае нейронная сеть предоставила более надежное решение благодаря своей гибкости и способности эффективно моделировать нелинейные отношения.\n",
        "\n",
        "Этот комплексный подход, включающий нормализацию, настройку гиперпараметров, PCA, выбор признаков и объединение в пакеты, демонстрирует стратегический путь к совершенствованию прогностических моделей в медицинской аналитике, особенно для классификации заболеваний сердца. Рекомендуется адаптировать аналогичные стратегии к другим наборам данных и проблемным областям, чтобы проверить эффективность этих методов в различных контекстах."
      ],
      "metadata": {
        "id": "aTSIhZje574V"
      }
    },
    {
      "cell_type": "code",
      "source": [
        "# Step 4: Construct ROC curves and compare models\n",
        "print(\"\\nStep 4: Construct ROC curves and compare models\")\n",
        "\n",
        "# SVM ROC curve\n",
        "svm_probs = svm_best.decision_function(X_test_open_scaled)\n",
        "svm_fpr, svm_tpr, _ = roc_curve(y_test_open, svm_probs)\n",
        "svm_roc_auc = auc(svm_fpr, svm_tpr)\n",
        "\n",
        "# Neural Network ROC curve\n",
        "nn_probs = nn_best.predict_proba(X_test_open_scaled)\n",
        "nn_fpr, nn_tpr, _ = roc_curve(y_test_open, nn_probs.max(axis=1))\n",
        "nn_roc_auc = auc(nn_fpr, nn_tpr)\n",
        "\n",
        "# SVM with RFE ROC curve\n",
        "svm_pipeline_probs = svm_pipeline_best.decision_function(X_test_open_scaled)\n",
        "svm_pipeline_fpr, svm_pipeline_tpr, _ = roc_curve(y_test_open, svm_pipeline_probs)\n",
        "svm_pipeline_roc_auc = auc(svm_pipeline_fpr, svm_pipeline_tpr)\n",
        "\n",
        "# Neural Network with RFE ROC curve\n",
        "nn_pipeline_probs = nn_pipeline_best.predict_proba(X_test_open_scaled)\n",
        "nn_pipeline_fpr, nn_pipeline_tpr, _ = roc_curve(y_test_open, nn_pipeline_probs.max(axis=1))\n",
        "nn_pipeline_roc_auc = auc(nn_pipeline_fpr, nn_pipeline_tpr)\n",
        "\n",
        "# Bagged SVM ROC curve\n",
        "svm_bagging_probs = svm_bagging_best.predict_proba(X_test_open_scaled)\n",
        "svm_bagging_fpr, svm_bagging_tpr, _ = roc_curve(y_test_open, svm_bagging_probs.max(axis=1))\n",
        "svm_bagging_roc_auc = auc(svm_bagging_fpr, svm_bagging_tpr)\n",
        "\n",
        "# Bagged Neural Network ROC curve\n",
        "nn_bagging_probs = nn_bagging_best.predict_proba(X_test_open_scaled)\n",
        "nn_bagging_fpr, nn_bagging_tpr, _ = roc_curve(y_test_open, nn_bagging_probs.max(axis=1))\n",
        "nn_bagging_roc_auc = auc(nn_bagging_fpr, nn_bagging_tpr)\n",
        "\n",
        "# Plot ROC curves\n",
        "plt.figure(figsize=(8, 6))\n",
        "plt.plot(svm_fpr, svm_tpr, label=f'SVM (AUC = {svm_roc_auc:.2f})')\n",
        "plt.plot(nn_fpr, nn_tpr, label=f'Neural Network (AUC = {nn_roc_auc:.2f})')\n",
        "plt.plot(svm_pipeline_fpr, svm_pipeline_tpr, label=f'SVM with RFE (AUC = {svm_pipeline_roc_auc:.2f})')\n",
        "plt.plot(nn_pipeline_fpr, nn_pipeline_tpr, label=f'Neural Network with RFE (AUC = {nn_pipeline_roc_auc:.2f})')\n",
        "plt.plot(svm_bagging_fpr, svm_bagging_tpr, label=f'Bagged SVM (AUC = {svm_bagging_roc_auc:.2f})')\n",
        "plt.plot(nn_bagging_fpr, nn_bagging_tpr, label=f'Bagged Neural Network (AUC = {nn_bagging_roc_auc:.2f})')\n",
        "plt.plot([0, 1], [0, 1], 'k--')\n",
        "plt.xlim([0.0, 1.0])\n",
        "plt.ylim([0.0, 1.05])\n",
        "plt.xlabel('False Positive Rate')\n",
        "plt.ylabel('True Positive Rate')\n",
        "plt.title('Receiver Operating Characteristic (ROC) Curve')\n",
        "plt.legend(loc=\"lower right\")\n",
        "plt.show()"
      ],
      "metadata": {
        "colab": {
          "base_uri": "https://localhost:8080/",
          "height": 599
        },
        "id": "ZIruHeLQ_21J",
        "outputId": "4d314a79-72a1-4eb7-932d-dea15b1164ef"
      },
      "execution_count": null,
      "outputs": [
        {
          "output_type": "stream",
          "name": "stdout",
          "text": [
            "\n",
            "Step 4: Construct ROC curves and compare models\n"
          ]
        },
        {
          "output_type": "display_data",
          "data": {
            "text/plain": [
              "<Figure size 800x600 with 1 Axes>"
            ],
            "image/png": "[encoded data removed]"
          },
          "metadata": {}
        }
      ]
    },
    {
      "cell_type": "code",
      "source": [
        "# Apply the scaler to the test data\n",
        "test_closed_data_scaled = scaler.transform(test_closed_data)\n",
        "\n",
        "# Choose the best SVM model\n",
        "if svm_pipeline_best.score(X_test_open_scaled, y_test_open) > svm_best.score(X_test_open_scaled, y_test_open):\n",
        "    best_svm_model = svm_pipeline_best\n",
        "else:\n",
        "    best_svm_model = svm_best\n",
        "\n",
        "# Choose the best Neural Network model\n",
        "if nn_pipeline_best.score(X_test_open_scaled, y_test_open) > nn_best.score(X_test_open_scaled, y_test_open):\n",
        "    best_nn_model = nn_pipeline_best\n",
        "else:\n",
        "    best_nn_model = nn_best\n",
        "\n",
        "# Predict on the closed test set\n",
        "y_pred_svm_closed = best_svm_model.predict(test_closed_data_scaled)\n",
        "y_pred_nn_closed = best_nn_model.predict(scaler.transform(test_closed_data_scaled))\n",
        "\n",
        "# Save classification results to files\n",
        "np.save('Task2_Фамилия_SVM.npy', y_pred_svm_closed)\n",
        "np.save('Task2_Фамилия_NeuralNetwroks.npy', y_pred_nn_closed)"
      ],
      "metadata": {
        "id": "E2A6qwok6Ze5"
      },
      "execution_count": null,
      "outputs": []
    },
    {
      "cell_type": "code",
      "source": [],
      "metadata": {
        "id": "3-40dAso6ZbF"
      },
      "execution_count": null,
      "outputs": []
    },
    {
      "cell_type": "code",
      "source": [],
      "metadata": {
        "id": "QollxWtNwt2G"
      },
      "execution_count": null,
      "outputs": []
    },
    {
      "cell_type": "code",
      "source": [],
      "metadata": {
        "id": "21Zd8zABuH8e"
      },
      "execution_count": null,
      "outputs": []
    },
    {
      "cell_type": "code",
      "source": [],
      "metadata": {
        "id": "lhrmG3JJuH5P"
      },
      "execution_count": null,
      "outputs": []
    },
    {
      "cell_type": "code",
      "source": [],
      "metadata": {
        "id": "plrd5Pys6ZUN"
      },
      "execution_count": null,
      "outputs": []
    }
  ],
  "metadata": {
    "kernelspec": {
      "display_name": "Python 3",
      "language": "python",
      "name": "python3"
    },
    "language_info": {
      "codemirror_mode": {
        "name": "ipython",
        "version": 3
      },
      "file_extension": ".py",
      "mimetype": "text/x-python",
      "name": "python",
      "nbconvert_exporter": "python",
      "pygments_lexer": "ipython3",
      "version": "3.11.9"
    },
    "colab": {
      "provenance": []
    }
  },
  "nbformat": 4,
  "nbformat_minor": 0
}